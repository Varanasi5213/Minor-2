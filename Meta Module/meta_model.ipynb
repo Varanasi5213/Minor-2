{
 "cells": [
  {
   "cell_type": "code",
   "execution_count": 1,
   "metadata": {},
   "outputs": [],
   "source": [
    "import pandas as pd\n",
    "import matplotlib.pyplot as plt"
   ]
  },
  {
   "cell_type": "code",
   "execution_count": 2,
   "metadata": {},
   "outputs": [],
   "source": [
    "data=pd.read_csv(\"Surgical-deepnet.csv\")"
   ]
  },
  {
   "cell_type": "code",
   "execution_count": 3,
   "metadata": {},
   "outputs": [
    {
     "data": {
      "text/plain": [
       "bmi                    0\n",
       "Age                    0\n",
       "asa_status             0\n",
       "baseline_cancer        0\n",
       "baseline_charlson      0\n",
       "baseline_cvd           0\n",
       "baseline_dementia      0\n",
       "baseline_diabetes      0\n",
       "baseline_digestive     0\n",
       "baseline_osteoart      0\n",
       "baseline_psych         0\n",
       "baseline_pulmonary     0\n",
       "ahrq_ccs               0\n",
       "ccsComplicationRate    0\n",
       "ccsMort30Rate          0\n",
       "complication_rsi       0\n",
       "dow                    0\n",
       "gender                 0\n",
       "hour                   0\n",
       "month                  0\n",
       "moonphase              0\n",
       "mort30                 0\n",
       "mortality_rsi          0\n",
       "race                   0\n",
       "complication           0\n",
       "dtype: int64"
      ]
     },
     "execution_count": 3,
     "metadata": {},
     "output_type": "execute_result"
    }
   ],
   "source": [
    "data.isnull().sum()"
   ]
  },
  {
   "cell_type": "code",
   "execution_count": 4,
   "metadata": {},
   "outputs": [
    {
     "data": {
      "text/plain": [
       "bmi                    float64\n",
       "Age                    float64\n",
       "asa_status               int64\n",
       "baseline_cancer          int64\n",
       "baseline_charlson        int64\n",
       "baseline_cvd             int64\n",
       "baseline_dementia        int64\n",
       "baseline_diabetes        int64\n",
       "baseline_digestive       int64\n",
       "baseline_osteoart        int64\n",
       "baseline_psych           int64\n",
       "baseline_pulmonary       int64\n",
       "ahrq_ccs                 int64\n",
       "ccsComplicationRate    float64\n",
       "ccsMort30Rate          float64\n",
       "complication_rsi       float64\n",
       "dow                      int64\n",
       "gender                   int64\n",
       "hour                   float64\n",
       "month                    int64\n",
       "moonphase                int64\n",
       "mort30                   int64\n",
       "mortality_rsi          float64\n",
       "race                     int64\n",
       "complication             int64\n",
       "dtype: object"
      ]
     },
     "execution_count": 4,
     "metadata": {},
     "output_type": "execute_result"
    }
   ],
   "source": [
    "data.dtypes"
   ]
  },
  {
   "cell_type": "code",
   "execution_count": 5,
   "metadata": {},
   "outputs": [
    {
     "data": {
      "text/plain": [
       "1    8033\n",
       "0    6602\n",
       "Name: gender, dtype: int64"
      ]
     },
     "execution_count": 5,
     "metadata": {},
     "output_type": "execute_result"
    }
   ],
   "source": [
    "data['gender'].value_counts()"
   ]
  },
  {
   "cell_type": "code",
   "execution_count": 6,
   "metadata": {},
   "outputs": [
    {
     "data": {
      "text/html": [
       "<div>\n",
       "<style scoped>\n",
       "    .dataframe tbody tr th:only-of-type {\n",
       "        vertical-align: middle;\n",
       "    }\n",
       "\n",
       "    .dataframe tbody tr th {\n",
       "        vertical-align: top;\n",
       "    }\n",
       "\n",
       "    .dataframe thead th {\n",
       "        text-align: right;\n",
       "    }\n",
       "</style>\n",
       "<table border=\"1\" class=\"dataframe\">\n",
       "  <thead>\n",
       "    <tr style=\"text-align: right;\">\n",
       "      <th></th>\n",
       "      <th>bmi</th>\n",
       "      <th>Age</th>\n",
       "      <th>asa_status</th>\n",
       "      <th>baseline_cancer</th>\n",
       "      <th>baseline_charlson</th>\n",
       "      <th>baseline_cvd</th>\n",
       "      <th>baseline_dementia</th>\n",
       "      <th>baseline_diabetes</th>\n",
       "      <th>baseline_digestive</th>\n",
       "      <th>baseline_osteoart</th>\n",
       "      <th>...</th>\n",
       "      <th>complication_rsi</th>\n",
       "      <th>dow</th>\n",
       "      <th>gender</th>\n",
       "      <th>hour</th>\n",
       "      <th>month</th>\n",
       "      <th>moonphase</th>\n",
       "      <th>mort30</th>\n",
       "      <th>mortality_rsi</th>\n",
       "      <th>race</th>\n",
       "      <th>complication</th>\n",
       "    </tr>\n",
       "  </thead>\n",
       "  <tbody>\n",
       "    <tr>\n",
       "      <th>0</th>\n",
       "      <td>19.31</td>\n",
       "      <td>59.2</td>\n",
       "      <td>1</td>\n",
       "      <td>1</td>\n",
       "      <td>0</td>\n",
       "      <td>0</td>\n",
       "      <td>0</td>\n",
       "      <td>0</td>\n",
       "      <td>0</td>\n",
       "      <td>0</td>\n",
       "      <td>...</td>\n",
       "      <td>-0.57</td>\n",
       "      <td>3</td>\n",
       "      <td>0</td>\n",
       "      <td>7.63</td>\n",
       "      <td>6</td>\n",
       "      <td>1</td>\n",
       "      <td>0</td>\n",
       "      <td>-0.43</td>\n",
       "      <td>1</td>\n",
       "      <td>0</td>\n",
       "    </tr>\n",
       "    <tr>\n",
       "      <th>1</th>\n",
       "      <td>18.73</td>\n",
       "      <td>59.1</td>\n",
       "      <td>0</td>\n",
       "      <td>0</td>\n",
       "      <td>0</td>\n",
       "      <td>0</td>\n",
       "      <td>0</td>\n",
       "      <td>0</td>\n",
       "      <td>0</td>\n",
       "      <td>0</td>\n",
       "      <td>...</td>\n",
       "      <td>0.21</td>\n",
       "      <td>0</td>\n",
       "      <td>0</td>\n",
       "      <td>12.93</td>\n",
       "      <td>0</td>\n",
       "      <td>1</td>\n",
       "      <td>0</td>\n",
       "      <td>-0.41</td>\n",
       "      <td>1</td>\n",
       "      <td>0</td>\n",
       "    </tr>\n",
       "    <tr>\n",
       "      <th>2</th>\n",
       "      <td>21.85</td>\n",
       "      <td>59.0</td>\n",
       "      <td>0</td>\n",
       "      <td>0</td>\n",
       "      <td>0</td>\n",
       "      <td>0</td>\n",
       "      <td>0</td>\n",
       "      <td>0</td>\n",
       "      <td>0</td>\n",
       "      <td>0</td>\n",
       "      <td>...</td>\n",
       "      <td>0.00</td>\n",
       "      <td>2</td>\n",
       "      <td>0</td>\n",
       "      <td>7.68</td>\n",
       "      <td>5</td>\n",
       "      <td>3</td>\n",
       "      <td>0</td>\n",
       "      <td>0.08</td>\n",
       "      <td>1</td>\n",
       "      <td>0</td>\n",
       "    </tr>\n",
       "    <tr>\n",
       "      <th>3</th>\n",
       "      <td>18.49</td>\n",
       "      <td>59.0</td>\n",
       "      <td>1</td>\n",
       "      <td>0</td>\n",
       "      <td>1</td>\n",
       "      <td>0</td>\n",
       "      <td>0</td>\n",
       "      <td>1</td>\n",
       "      <td>1</td>\n",
       "      <td>0</td>\n",
       "      <td>...</td>\n",
       "      <td>-0.65</td>\n",
       "      <td>2</td>\n",
       "      <td>1</td>\n",
       "      <td>7.58</td>\n",
       "      <td>4</td>\n",
       "      <td>3</td>\n",
       "      <td>0</td>\n",
       "      <td>-0.32</td>\n",
       "      <td>1</td>\n",
       "      <td>0</td>\n",
       "    </tr>\n",
       "    <tr>\n",
       "      <th>4</th>\n",
       "      <td>19.70</td>\n",
       "      <td>59.0</td>\n",
       "      <td>1</td>\n",
       "      <td>0</td>\n",
       "      <td>0</td>\n",
       "      <td>0</td>\n",
       "      <td>0</td>\n",
       "      <td>0</td>\n",
       "      <td>0</td>\n",
       "      <td>0</td>\n",
       "      <td>...</td>\n",
       "      <td>0.00</td>\n",
       "      <td>0</td>\n",
       "      <td>0</td>\n",
       "      <td>7.88</td>\n",
       "      <td>11</td>\n",
       "      <td>0</td>\n",
       "      <td>0</td>\n",
       "      <td>0.00</td>\n",
       "      <td>1</td>\n",
       "      <td>0</td>\n",
       "    </tr>\n",
       "  </tbody>\n",
       "</table>\n",
       "<p>5 rows × 25 columns</p>\n",
       "</div>"
      ],
      "text/plain": [
       "     bmi   Age  asa_status  baseline_cancer  baseline_charlson  baseline_cvd  \\\n",
       "0  19.31  59.2           1                1                  0             0   \n",
       "1  18.73  59.1           0                0                  0             0   \n",
       "2  21.85  59.0           0                0                  0             0   \n",
       "3  18.49  59.0           1                0                  1             0   \n",
       "4  19.70  59.0           1                0                  0             0   \n",
       "\n",
       "   baseline_dementia  baseline_diabetes  baseline_digestive  \\\n",
       "0                  0                  0                   0   \n",
       "1                  0                  0                   0   \n",
       "2                  0                  0                   0   \n",
       "3                  0                  1                   1   \n",
       "4                  0                  0                   0   \n",
       "\n",
       "   baseline_osteoart  ...  complication_rsi  dow  gender   hour  month  \\\n",
       "0                  0  ...             -0.57    3       0   7.63      6   \n",
       "1                  0  ...              0.21    0       0  12.93      0   \n",
       "2                  0  ...              0.00    2       0   7.68      5   \n",
       "3                  0  ...             -0.65    2       1   7.58      4   \n",
       "4                  0  ...              0.00    0       0   7.88     11   \n",
       "\n",
       "   moonphase  mort30  mortality_rsi  race  complication  \n",
       "0          1       0          -0.43     1             0  \n",
       "1          1       0          -0.41     1             0  \n",
       "2          3       0           0.08     1             0  \n",
       "3          3       0          -0.32     1             0  \n",
       "4          0       0           0.00     1             0  \n",
       "\n",
       "[5 rows x 25 columns]"
      ]
     },
     "execution_count": 6,
     "metadata": {},
     "output_type": "execute_result"
    }
   ],
   "source": [
    "data.head()"
   ]
  },
  {
   "cell_type": "code",
   "execution_count": 7,
   "metadata": {},
   "outputs": [
    {
     "data": {
      "text/html": [
       "<div>\n",
       "<style scoped>\n",
       "    .dataframe tbody tr th:only-of-type {\n",
       "        vertical-align: middle;\n",
       "    }\n",
       "\n",
       "    .dataframe tbody tr th {\n",
       "        vertical-align: top;\n",
       "    }\n",
       "\n",
       "    .dataframe thead th {\n",
       "        text-align: right;\n",
       "    }\n",
       "</style>\n",
       "<table border=\"1\" class=\"dataframe\">\n",
       "  <thead>\n",
       "    <tr style=\"text-align: right;\">\n",
       "      <th></th>\n",
       "      <th>bmi</th>\n",
       "      <th>Age</th>\n",
       "      <th>asa_status</th>\n",
       "      <th>baseline_cancer</th>\n",
       "      <th>baseline_charlson</th>\n",
       "      <th>baseline_cvd</th>\n",
       "      <th>baseline_dementia</th>\n",
       "      <th>baseline_diabetes</th>\n",
       "      <th>baseline_digestive</th>\n",
       "      <th>baseline_osteoart</th>\n",
       "      <th>...</th>\n",
       "      <th>complication_rsi</th>\n",
       "      <th>dow</th>\n",
       "      <th>gender</th>\n",
       "      <th>hour</th>\n",
       "      <th>month</th>\n",
       "      <th>moonphase</th>\n",
       "      <th>mort30</th>\n",
       "      <th>mortality_rsi</th>\n",
       "      <th>race</th>\n",
       "      <th>complication</th>\n",
       "    </tr>\n",
       "  </thead>\n",
       "  <tbody>\n",
       "    <tr>\n",
       "      <th>count</th>\n",
       "      <td>14635.000000</td>\n",
       "      <td>14635.000000</td>\n",
       "      <td>14635.000000</td>\n",
       "      <td>14635.000000</td>\n",
       "      <td>14635.000000</td>\n",
       "      <td>14635.000000</td>\n",
       "      <td>14635.000000</td>\n",
       "      <td>14635.000000</td>\n",
       "      <td>14635.000000</td>\n",
       "      <td>14635.000000</td>\n",
       "      <td>...</td>\n",
       "      <td>14635.000000</td>\n",
       "      <td>14635.000000</td>\n",
       "      <td>14635.000000</td>\n",
       "      <td>14635.000000</td>\n",
       "      <td>14635.000000</td>\n",
       "      <td>14635.000000</td>\n",
       "      <td>14635.000000</td>\n",
       "      <td>14635.000000</td>\n",
       "      <td>14635.000000</td>\n",
       "      <td>14635.000000</td>\n",
       "    </tr>\n",
       "    <tr>\n",
       "      <th>mean</th>\n",
       "      <td>31.295642</td>\n",
       "      <td>63.205268</td>\n",
       "      <td>0.632320</td>\n",
       "      <td>0.262316</td>\n",
       "      <td>0.977520</td>\n",
       "      <td>0.620294</td>\n",
       "      <td>0.004851</td>\n",
       "      <td>0.120875</td>\n",
       "      <td>0.189546</td>\n",
       "      <td>0.342740</td>\n",
       "      <td>...</td>\n",
       "      <td>-0.699044</td>\n",
       "      <td>1.606970</td>\n",
       "      <td>0.548890</td>\n",
       "      <td>10.171613</td>\n",
       "      <td>5.915408</td>\n",
       "      <td>1.187086</td>\n",
       "      <td>0.003963</td>\n",
       "      <td>-0.836712</td>\n",
       "      <td>0.919440</td>\n",
       "      <td>0.252135</td>\n",
       "    </tr>\n",
       "    <tr>\n",
       "      <th>std</th>\n",
       "      <td>8.152709</td>\n",
       "      <td>18.088191</td>\n",
       "      <td>0.539952</td>\n",
       "      <td>0.439909</td>\n",
       "      <td>1.758355</td>\n",
       "      <td>0.485330</td>\n",
       "      <td>0.069485</td>\n",
       "      <td>0.325993</td>\n",
       "      <td>0.391955</td>\n",
       "      <td>0.474642</td>\n",
       "      <td>...</td>\n",
       "      <td>1.339394</td>\n",
       "      <td>1.497738</td>\n",
       "      <td>0.497621</td>\n",
       "      <td>2.659881</td>\n",
       "      <td>3.239825</td>\n",
       "      <td>1.158357</td>\n",
       "      <td>0.062830</td>\n",
       "      <td>1.194111</td>\n",
       "      <td>0.364663</td>\n",
       "      <td>0.434253</td>\n",
       "    </tr>\n",
       "    <tr>\n",
       "      <th>min</th>\n",
       "      <td>2.150000</td>\n",
       "      <td>6.100000</td>\n",
       "      <td>0.000000</td>\n",
       "      <td>0.000000</td>\n",
       "      <td>0.000000</td>\n",
       "      <td>0.000000</td>\n",
       "      <td>0.000000</td>\n",
       "      <td>0.000000</td>\n",
       "      <td>0.000000</td>\n",
       "      <td>0.000000</td>\n",
       "      <td>...</td>\n",
       "      <td>-4.720000</td>\n",
       "      <td>0.000000</td>\n",
       "      <td>0.000000</td>\n",
       "      <td>6.070000</td>\n",
       "      <td>0.000000</td>\n",
       "      <td>0.000000</td>\n",
       "      <td>0.000000</td>\n",
       "      <td>-3.820000</td>\n",
       "      <td>0.000000</td>\n",
       "      <td>0.000000</td>\n",
       "    </tr>\n",
       "    <tr>\n",
       "      <th>25%</th>\n",
       "      <td>26.510000</td>\n",
       "      <td>51.500000</td>\n",
       "      <td>0.000000</td>\n",
       "      <td>0.000000</td>\n",
       "      <td>0.000000</td>\n",
       "      <td>0.000000</td>\n",
       "      <td>0.000000</td>\n",
       "      <td>0.000000</td>\n",
       "      <td>0.000000</td>\n",
       "      <td>0.000000</td>\n",
       "      <td>...</td>\n",
       "      <td>-1.970000</td>\n",
       "      <td>0.000000</td>\n",
       "      <td>0.000000</td>\n",
       "      <td>7.820000</td>\n",
       "      <td>3.000000</td>\n",
       "      <td>0.000000</td>\n",
       "      <td>0.000000</td>\n",
       "      <td>-2.250000</td>\n",
       "      <td>1.000000</td>\n",
       "      <td>0.000000</td>\n",
       "    </tr>\n",
       "    <tr>\n",
       "      <th>50%</th>\n",
       "      <td>28.980000</td>\n",
       "      <td>59.700000</td>\n",
       "      <td>1.000000</td>\n",
       "      <td>0.000000</td>\n",
       "      <td>0.000000</td>\n",
       "      <td>1.000000</td>\n",
       "      <td>0.000000</td>\n",
       "      <td>0.000000</td>\n",
       "      <td>0.000000</td>\n",
       "      <td>0.000000</td>\n",
       "      <td>...</td>\n",
       "      <td>-0.580000</td>\n",
       "      <td>1.000000</td>\n",
       "      <td>1.000000</td>\n",
       "      <td>9.120000</td>\n",
       "      <td>7.000000</td>\n",
       "      <td>1.000000</td>\n",
       "      <td>0.000000</td>\n",
       "      <td>-0.640000</td>\n",
       "      <td>1.000000</td>\n",
       "      <td>0.000000</td>\n",
       "    </tr>\n",
       "    <tr>\n",
       "      <th>75%</th>\n",
       "      <td>35.295000</td>\n",
       "      <td>74.700000</td>\n",
       "      <td>1.000000</td>\n",
       "      <td>1.000000</td>\n",
       "      <td>2.000000</td>\n",
       "      <td>1.000000</td>\n",
       "      <td>0.000000</td>\n",
       "      <td>0.000000</td>\n",
       "      <td>0.000000</td>\n",
       "      <td>1.000000</td>\n",
       "      <td>...</td>\n",
       "      <td>0.000000</td>\n",
       "      <td>3.000000</td>\n",
       "      <td>1.000000</td>\n",
       "      <td>12.050000</td>\n",
       "      <td>8.000000</td>\n",
       "      <td>2.000000</td>\n",
       "      <td>0.000000</td>\n",
       "      <td>0.000000</td>\n",
       "      <td>1.000000</td>\n",
       "      <td>1.000000</td>\n",
       "    </tr>\n",
       "    <tr>\n",
       "      <th>max</th>\n",
       "      <td>92.590000</td>\n",
       "      <td>90.000000</td>\n",
       "      <td>2.000000</td>\n",
       "      <td>1.000000</td>\n",
       "      <td>13.000000</td>\n",
       "      <td>1.000000</td>\n",
       "      <td>1.000000</td>\n",
       "      <td>1.000000</td>\n",
       "      <td>1.000000</td>\n",
       "      <td>1.000000</td>\n",
       "      <td>...</td>\n",
       "      <td>12.560000</td>\n",
       "      <td>4.000000</td>\n",
       "      <td>1.000000</td>\n",
       "      <td>18.920000</td>\n",
       "      <td>11.000000</td>\n",
       "      <td>3.000000</td>\n",
       "      <td>1.000000</td>\n",
       "      <td>4.400000</td>\n",
       "      <td>2.000000</td>\n",
       "      <td>1.000000</td>\n",
       "    </tr>\n",
       "  </tbody>\n",
       "</table>\n",
       "<p>8 rows × 25 columns</p>\n",
       "</div>"
      ],
      "text/plain": [
       "                bmi           Age    asa_status  baseline_cancer  \\\n",
       "count  14635.000000  14635.000000  14635.000000     14635.000000   \n",
       "mean      31.295642     63.205268      0.632320         0.262316   \n",
       "std        8.152709     18.088191      0.539952         0.439909   \n",
       "min        2.150000      6.100000      0.000000         0.000000   \n",
       "25%       26.510000     51.500000      0.000000         0.000000   \n",
       "50%       28.980000     59.700000      1.000000         0.000000   \n",
       "75%       35.295000     74.700000      1.000000         1.000000   \n",
       "max       92.590000     90.000000      2.000000         1.000000   \n",
       "\n",
       "       baseline_charlson  baseline_cvd  baseline_dementia  baseline_diabetes  \\\n",
       "count       14635.000000  14635.000000       14635.000000       14635.000000   \n",
       "mean            0.977520      0.620294           0.004851           0.120875   \n",
       "std             1.758355      0.485330           0.069485           0.325993   \n",
       "min             0.000000      0.000000           0.000000           0.000000   \n",
       "25%             0.000000      0.000000           0.000000           0.000000   \n",
       "50%             0.000000      1.000000           0.000000           0.000000   \n",
       "75%             2.000000      1.000000           0.000000           0.000000   \n",
       "max            13.000000      1.000000           1.000000           1.000000   \n",
       "\n",
       "       baseline_digestive  baseline_osteoart  ...  complication_rsi  \\\n",
       "count        14635.000000       14635.000000  ...      14635.000000   \n",
       "mean             0.189546           0.342740  ...         -0.699044   \n",
       "std              0.391955           0.474642  ...          1.339394   \n",
       "min              0.000000           0.000000  ...         -4.720000   \n",
       "25%              0.000000           0.000000  ...         -1.970000   \n",
       "50%              0.000000           0.000000  ...         -0.580000   \n",
       "75%              0.000000           1.000000  ...          0.000000   \n",
       "max              1.000000           1.000000  ...         12.560000   \n",
       "\n",
       "                dow        gender          hour         month     moonphase  \\\n",
       "count  14635.000000  14635.000000  14635.000000  14635.000000  14635.000000   \n",
       "mean       1.606970      0.548890     10.171613      5.915408      1.187086   \n",
       "std        1.497738      0.497621      2.659881      3.239825      1.158357   \n",
       "min        0.000000      0.000000      6.070000      0.000000      0.000000   \n",
       "25%        0.000000      0.000000      7.820000      3.000000      0.000000   \n",
       "50%        1.000000      1.000000      9.120000      7.000000      1.000000   \n",
       "75%        3.000000      1.000000     12.050000      8.000000      2.000000   \n",
       "max        4.000000      1.000000     18.920000     11.000000      3.000000   \n",
       "\n",
       "             mort30  mortality_rsi          race  complication  \n",
       "count  14635.000000   14635.000000  14635.000000  14635.000000  \n",
       "mean       0.003963      -0.836712      0.919440      0.252135  \n",
       "std        0.062830       1.194111      0.364663      0.434253  \n",
       "min        0.000000      -3.820000      0.000000      0.000000  \n",
       "25%        0.000000      -2.250000      1.000000      0.000000  \n",
       "50%        0.000000      -0.640000      1.000000      0.000000  \n",
       "75%        0.000000       0.000000      1.000000      1.000000  \n",
       "max        1.000000       4.400000      2.000000      1.000000  \n",
       "\n",
       "[8 rows x 25 columns]"
      ]
     },
     "execution_count": 7,
     "metadata": {},
     "output_type": "execute_result"
    }
   ],
   "source": [
    "data.describe()"
   ]
  },
  {
   "cell_type": "code",
   "execution_count": 12,
   "metadata": {},
   "outputs": [
    {
     "data": {
      "text/plain": [
       "[<matplotlib.lines.Line2D at 0x1468ea9ddd8>]"
      ]
     },
     "execution_count": 12,
     "metadata": {},
     "output_type": "execute_result"
    },
    {
     "data": {
      "image/png": "[encoded data removed]",
      "text/plain": [
       "<Figure size 432x288 with 1 Axes>"
      ]
     },
     "metadata": {
      "needs_background": "light"
     },
     "output_type": "display_data"
    }
   ],
   "source": [
    "plt.plot(data.mean())"
   ]
  },
  {
   "cell_type": "code",
   "execution_count": 11,
   "metadata": {},
   "outputs": [
    {
     "data": {
      "text/plain": [
       "[<matplotlib.lines.Line2D at 0x1468ea1cf98>]"
      ]
     },
     "execution_count": 11,
     "metadata": {},
     "output_type": "execute_result"
    },
    {
     "data": {
      "image/png": "[encoded data removed]",
      "text/plain": [
       "<Figure size 432x288 with 1 Axes>"
      ]
     },
     "metadata": {
      "needs_background": "light"
     },
     "output_type": "display_data"
    }
   ],
   "source": [
    "plt.plot(data.var())"
   ]
  },
  {
   "cell_type": "code",
   "execution_count": 8,
   "metadata": {},
   "outputs": [
    {
     "data": {
      "text/plain": [
       "[<matplotlib.lines.Line2D at 0x1468d1440f0>]"
      ]
     },
     "execution_count": 8,
     "metadata": {},
     "output_type": "execute_result"
    },
    {
     "data": {
      "image/png": "[encoded data removed]",
      "text/plain": [
       "<Figure size 432x288 with 1 Axes>"
      ]
     },
     "metadata": {
      "needs_background": "light"
     },
     "output_type": "display_data"
    }
   ],
   "source": [
    "plt.plot(data.skew())"
   ]
  },
  {
   "cell_type": "code",
   "execution_count": 9,
   "metadata": {},
   "outputs": [
    {
     "data": {
      "text/plain": [
       "[<matplotlib.lines.Line2D at 0x1468e8fa5f8>]"
      ]
     },
     "execution_count": 9,
     "metadata": {},
     "output_type": "execute_result"
    },
    {
     "data": {
      "image/png": "[encoded data removed]",
      "text/plain": [
       "<Figure size 432x288 with 1 Axes>"
      ]
     },
     "metadata": {
      "needs_background": "light"
     },
     "output_type": "display_data"
    }
   ],
   "source": [
    "plt.plot(data.kurtosis())"
   ]
  },
  {
   "cell_type": "code",
   "execution_count": null,
   "metadata": {},
   "outputs": [],
   "source": []
  }
 ],
 "metadata": {
  "kernelspec": {
   "display_name": "Python 3",
   "language": "python",
   "name": "python3"
  },
  "language_info": {
   "codemirror_mode": {
    "name": "ipython",
    "version": 3
   },
   "file_extension": ".py",
   "mimetype": "text/x-python",
   "name": "python",
   "nbconvert_exporter": "python",
   "pygments_lexer": "ipython3",
   "version": "3.7.3"
  }
 },
 "nbformat": 4,
 "nbformat_minor": 2
}
